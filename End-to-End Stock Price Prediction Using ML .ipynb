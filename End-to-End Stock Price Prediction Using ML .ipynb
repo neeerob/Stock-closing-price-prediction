{
 "cells": [
  {
   "cell_type": "code",
   "execution_count": 7,
   "metadata": {},
   "outputs": [
    {
     "data": {
      "text/html": [
       "<div>\n",
       "<style scoped>\n",
       "    .dataframe tbody tr th:only-of-type {\n",
       "        vertical-align: middle;\n",
       "    }\n",
       "\n",
       "    .dataframe tbody tr th {\n",
       "        vertical-align: top;\n",
       "    }\n",
       "\n",
       "    .dataframe thead th {\n",
       "        text-align: right;\n",
       "    }\n",
       "</style>\n",
       "<table border=\"1\" class=\"dataframe\">\n",
       "  <thead>\n",
       "    <tr style=\"text-align: right;\">\n",
       "      <th></th>\n",
       "      <th>Open</th>\n",
       "      <th>High</th>\n",
       "      <th>Low</th>\n",
       "      <th>Close</th>\n",
       "      <th>Adj Close</th>\n",
       "      <th>Volume</th>\n",
       "    </tr>\n",
       "    <tr>\n",
       "      <th>Date</th>\n",
       "      <th></th>\n",
       "      <th></th>\n",
       "      <th></th>\n",
       "      <th></th>\n",
       "      <th></th>\n",
       "      <th></th>\n",
       "    </tr>\n",
       "  </thead>\n",
       "  <tbody>\n",
       "    <tr>\n",
       "      <th>2017-12-11</th>\n",
       "      <td>51.775002</td>\n",
       "      <td>52.189999</td>\n",
       "      <td>51.602501</td>\n",
       "      <td>52.055000</td>\n",
       "      <td>52.055000</td>\n",
       "      <td>23856000</td>\n",
       "    </tr>\n",
       "    <tr>\n",
       "      <th>2017-12-12</th>\n",
       "      <td>51.981499</td>\n",
       "      <td>52.515499</td>\n",
       "      <td>51.684502</td>\n",
       "      <td>52.023998</td>\n",
       "      <td>52.023998</td>\n",
       "      <td>25590000</td>\n",
       "    </tr>\n",
       "    <tr>\n",
       "      <th>2017-12-13</th>\n",
       "      <td>52.306000</td>\n",
       "      <td>52.333248</td>\n",
       "      <td>51.918999</td>\n",
       "      <td>52.030499</td>\n",
       "      <td>52.030499</td>\n",
       "      <td>25654000</td>\n",
       "    </tr>\n",
       "    <tr>\n",
       "      <th>2017-12-14</th>\n",
       "      <td>52.250000</td>\n",
       "      <td>52.924999</td>\n",
       "      <td>52.155499</td>\n",
       "      <td>52.457500</td>\n",
       "      <td>52.457500</td>\n",
       "      <td>31174000</td>\n",
       "    </tr>\n",
       "    <tr>\n",
       "      <th>2017-12-15</th>\n",
       "      <td>52.730499</td>\n",
       "      <td>53.381001</td>\n",
       "      <td>52.474998</td>\n",
       "      <td>53.209499</td>\n",
       "      <td>53.209499</td>\n",
       "      <td>65518000</td>\n",
       "    </tr>\n",
       "  </tbody>\n",
       "</table>\n",
       "</div>"
      ],
      "text/plain": [
       "                 Open       High        Low      Close  Adj Close    Volume\n",
       "Date                                                                       \n",
       "2017-12-11  51.775002  52.189999  51.602501  52.055000  52.055000  23856000\n",
       "2017-12-12  51.981499  52.515499  51.684502  52.023998  52.023998  25590000\n",
       "2017-12-13  52.306000  52.333248  51.918999  52.030499  52.030499  25654000\n",
       "2017-12-14  52.250000  52.924999  52.155499  52.457500  52.457500  31174000\n",
       "2017-12-15  52.730499  53.381001  52.474998  53.209499  53.209499  65518000"
      ]
     },
     "execution_count": 7,
     "metadata": {},
     "output_type": "execute_result"
    }
   ],
   "source": [
    "import pandas as pd\n",
    "stock_data = pd.read_csv('./GOOG-3.csv',index_col='Date')\n",
    "stock_data.head()\n",
    "import matplotlib.dates as mdates\n",
    "import matplotlib.pyplot as plt\n",
    "import datetimeas"
   ]
  }
 ],
 "metadata": {
  "interpreter": {
   "hash": "aee8b7b246df8f9039afb4144a1f6fd8d2ca17a180786b69acc140d282b71a49"
  },
  "kernelspec": {
   "display_name": "Python 3.10.6 64-bit",
   "language": "python",
   "name": "python3"
  },
  "language_info": {
   "codemirror_mode": {
    "name": "ipython",
    "version": 3
   },
   "file_extension": ".py",
   "mimetype": "text/x-python",
   "name": "python",
   "nbconvert_exporter": "python",
   "pygments_lexer": "ipython3",
   "version": "3.10.6"
  },
  "orig_nbformat": 4
 },
 "nbformat": 4,
 "nbformat_minor": 2
}
